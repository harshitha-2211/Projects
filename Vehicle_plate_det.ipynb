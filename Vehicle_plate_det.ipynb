{
 "cells": [
  {
   "cell_type": "markdown",
   "id": "d8333842",
   "metadata": {},
   "source": [
    "### Libray Files"
   ]
  },
  {
   "cell_type": "code",
   "execution_count": 1,
   "id": "72d26978",
   "metadata": {
    "scrolled": true
   },
   "outputs": [
    {
     "name": "stdout",
     "output_type": "stream",
     "text": [
      "Defaulting to user installation because normal site-packages is not writeable\n",
      "Requirement already satisfied: telegram in c:\\users\\nihar\\appdata\\roaming\\python\\python310\\site-packages (0.0.1)\n",
      "Note: you may need to restart the kernel to use updated packages.\n",
      "Defaulting to user installation because normal site-packages is not writeableNote: you may need to restart the kernel to use updated packages.\n",
      "\n",
      "Requirement already satisfied: pytz in c:\\programdata\\anaconda3\\lib\\site-packages (2022.7)\n"
     ]
    }
   ],
   "source": [
    "%pip install telegram \n",
    "import telegram\n",
    "import requests\n",
    "from datetime import datetime\n",
    "%pip install pytz\n",
    "import pytz"
   ]
  },
  {
   "cell_type": "code",
   "execution_count": 2,
   "id": "70cb0487",
   "metadata": {},
   "outputs": [
    {
     "name": "stdout",
     "output_type": "stream",
     "text": [
      "Defaulting to user installation because normal site-packages is not writeable\n",
      "Requirement already satisfied: gitpython>=3.1.30 in c:\\users\\nihar\\appdata\\roaming\\python\\python310\\site-packages (from -r requirements.txt (line 5)) (3.1.31)\n",
      "Requirement already satisfied: matplotlib>=3.3 in c:\\programdata\\anaconda3\\lib\\site-packages (from -r requirements.txt (line 6)) (3.7.0)\n",
      "Requirement already satisfied: numpy>=1.18.5 in c:\\programdata\\anaconda3\\lib\\site-packages (from -r requirements.txt (line 7)) (1.23.5)\n",
      "Requirement already satisfied: opencv-python>=4.1.1 in c:\\users\\nihar\\appdata\\roaming\\python\\python310\\site-packages (from -r requirements.txt (line 8)) (4.7.0.72)\n",
      "Requirement already satisfied: Pillow>=7.1.2 in c:\\programdata\\anaconda3\\lib\\site-packages (from -r requirements.txt (line 9)) (9.4.0)\n",
      "Requirement already satisfied: psutil in c:\\users\\nihar\\appdata\\roaming\\python\\python310\\site-packages (from -r requirements.txt (line 10)) (5.9.5)\n",
      "Requirement already satisfied: PyYAML>=5.3.1 in c:\\programdata\\anaconda3\\lib\\site-packages (from -r requirements.txt (line 11)) (6.0)\n",
      "Requirement already satisfied: requests>=2.23.0 in c:\\programdata\\anaconda3\\lib\\site-packages (from -r requirements.txt (line 12)) (2.28.1)\n",
      "Requirement already satisfied: scipy>=1.4.1 in c:\\programdata\\anaconda3\\lib\\site-packages (from -r requirements.txt (line 13)) (1.10.0)\n",
      "Requirement already satisfied: thop>=0.1.1 in c:\\users\\nihar\\appdata\\roaming\\python\\python310\\site-packages (from -r requirements.txt (line 14)) (0.1.1.post2209072238)\n",
      "Requirement already satisfied: torch>=1.7.0 in c:\\users\\nihar\\appdata\\roaming\\python\\python310\\site-packages (from -r requirements.txt (line 15)) (2.0.1)\n",
      "Requirement already satisfied: torchvision>=0.8.1 in c:\\users\\nihar\\appdata\\roaming\\python\\python310\\site-packages (from -r requirements.txt (line 16)) (0.15.2)\n",
      "Requirement already satisfied: tqdm>=4.64.0 in c:\\programdata\\anaconda3\\lib\\site-packages (from -r requirements.txt (line 17)) (4.64.1)\n",
      "Requirement already satisfied: pandas>=1.1.4 in c:\\programdata\\anaconda3\\lib\\site-packages (from -r requirements.txt (line 26)) (1.5.3)\n",
      "Requirement already satisfied: seaborn>=0.11.0 in c:\\programdata\\anaconda3\\lib\\site-packages (from -r requirements.txt (line 27)) (0.12.2)\n",
      "Requirement already satisfied: setuptools>=65.5.1 in c:\\programdata\\anaconda3\\lib\\site-packages (from -r requirements.txt (line 41)) (65.6.3)\n",
      "Requirement already satisfied: gitdb<5,>=4.0.1 in c:\\users\\nihar\\appdata\\roaming\\python\\python310\\site-packages (from gitpython>=3.1.30->-r requirements.txt (line 5)) (4.0.10)\n",
      "Requirement already satisfied: fonttools>=4.22.0 in c:\\programdata\\anaconda3\\lib\\site-packages (from matplotlib>=3.3->-r requirements.txt (line 6)) (4.25.0)\n",
      "Requirement already satisfied: contourpy>=1.0.1 in c:\\programdata\\anaconda3\\lib\\site-packages (from matplotlib>=3.3->-r requirements.txt (line 6)) (1.0.5)\n",
      "Requirement already satisfied: cycler>=0.10 in c:\\users\\nihar\\appdata\\roaming\\python\\python310\\site-packages (from matplotlib>=3.3->-r requirements.txt (line 6)) (0.10.0)\n",
      "Requirement already satisfied: packaging>=20.0 in c:\\users\\nihar\\appdata\\roaming\\python\\python310\\site-packages (from matplotlib>=3.3->-r requirements.txt (line 6)) (23.1)\n",
      "Requirement already satisfied: pyparsing>=2.3.1 in c:\\users\\nihar\\appdata\\roaming\\python\\python310\\site-packages (from matplotlib>=3.3->-r requirements.txt (line 6)) (2.4.7)\n",
      "Requirement already satisfied: python-dateutil>=2.7 in c:\\users\\nihar\\appdata\\roaming\\python\\python310\\site-packages (from matplotlib>=3.3->-r requirements.txt (line 6)) (2.8.2)\n",
      "Requirement already satisfied: kiwisolver>=1.0.1 in c:\\programdata\\anaconda3\\lib\\site-packages (from matplotlib>=3.3->-r requirements.txt (line 6)) (1.4.4)\n",
      "Requirement already satisfied: charset-normalizer<3,>=2 in c:\\programdata\\anaconda3\\lib\\site-packages (from requests>=2.23.0->-r requirements.txt (line 12)) (2.0.4)\n",
      "Requirement already satisfied: idna<4,>=2.5 in c:\\users\\nihar\\appdata\\roaming\\python\\python310\\site-packages (from requests>=2.23.0->-r requirements.txt (line 12)) (2.10)\n",
      "Requirement already satisfied: certifi>=2017.4.17 in c:\\programdata\\anaconda3\\lib\\site-packages (from requests>=2.23.0->-r requirements.txt (line 12)) (2022.12.7)\n",
      "Requirement already satisfied: urllib3<1.27,>=1.21.1 in c:\\programdata\\anaconda3\\lib\\site-packages (from requests>=2.23.0->-r requirements.txt (line 12)) (1.26.14)\n",
      "Requirement already satisfied: jinja2 in c:\\programdata\\anaconda3\\lib\\site-packages (from torch>=1.7.0->-r requirements.txt (line 15)) (3.1.2)\n",
      "Requirement already satisfied: filelock in c:\\users\\nihar\\appdata\\roaming\\python\\python310\\site-packages (from torch>=1.7.0->-r requirements.txt (line 15)) (3.12.0)\n",
      "Requirement already satisfied: typing-extensions in c:\\programdata\\anaconda3\\lib\\site-packages (from torch>=1.7.0->-r requirements.txt (line 15)) (4.4.0)\n",
      "Requirement already satisfied: networkx in c:\\programdata\\anaconda3\\lib\\site-packages (from torch>=1.7.0->-r requirements.txt (line 15)) (2.8.4)\n",
      "Requirement already satisfied: sympy in c:\\programdata\\anaconda3\\lib\\site-packages (from torch>=1.7.0->-r requirements.txt (line 15)) (1.11.1)\n",
      "Requirement already satisfied: colorama in c:\\users\\nihar\\appdata\\roaming\\python\\python310\\site-packages (from tqdm>=4.64.0->-r requirements.txt (line 17)) (0.4.6)\n",
      "Requirement already satisfied: pytz>=2020.1 in c:\\programdata\\anaconda3\\lib\\site-packages (from pandas>=1.1.4->-r requirements.txt (line 26)) (2022.7)\n",
      "Requirement already satisfied: six in c:\\users\\nihar\\appdata\\roaming\\python\\python310\\site-packages (from cycler>=0.10->matplotlib>=3.3->-r requirements.txt (line 6)) (1.16.0)\n",
      "Requirement already satisfied: smmap<6,>=3.0.1 in c:\\users\\nihar\\appdata\\roaming\\python\\python310\\site-packages (from gitdb<5,>=4.0.1->gitpython>=3.1.30->-r requirements.txt (line 5)) (5.0.0)\n",
      "Requirement already satisfied: MarkupSafe>=2.0 in c:\\programdata\\anaconda3\\lib\\site-packages (from jinja2->torch>=1.7.0->-r requirements.txt (line 15)) (2.1.1)\n",
      "Requirement already satisfied: mpmath>=0.19 in c:\\programdata\\anaconda3\\lib\\site-packages (from sympy->torch>=1.7.0->-r requirements.txt (line 15)) (1.2.1)\n",
      "Note: you may need to restart the kernel to use updated packages.\n"
     ]
    }
   ],
   "source": [
    "pip install -r requirements.txt"
   ]
  },
  {
   "cell_type": "code",
   "execution_count": 3,
   "id": "410dd0eb",
   "metadata": {},
   "outputs": [
    {
     "name": "stdout",
     "output_type": "stream",
     "text": [
      "Defaulting to user installation because normal site-packages is not writeableNote: you may need to restart the kernel to use updated packages.\n",
      "\n",
      "Requirement already satisfied: django in c:\\users\\nihar\\appdata\\roaming\\python\\python310\\site-packages (4.2.1)\n",
      "Requirement already satisfied: tzdata in c:\\users\\nihar\\appdata\\roaming\\python\\python310\\site-packages (from django) (2023.3)\n",
      "Requirement already satisfied: asgiref<4,>=3.6.0 in c:\\users\\nihar\\appdata\\roaming\\python\\python310\\site-packages (from django) (3.6.0)\n",
      "Requirement already satisfied: sqlparse>=0.3.1 in c:\\users\\nihar\\appdata\\roaming\\python\\python310\\site-packages (from django) (0.4.4)\n"
     ]
    }
   ],
   "source": [
    "%pip install django"
   ]
  },
  {
   "cell_type": "code",
   "execution_count": 4,
   "id": "915f2b4a",
   "metadata": {},
   "outputs": [
    {
     "name": "stdout",
     "output_type": "stream",
     "text": [
      "Defaulting to user installation because normal site-packages is not writeable\n",
      "Requirement already satisfied: jupyter in c:\\programdata\\anaconda3\\lib\\site-packages (1.0.0)\n",
      "Requirement already satisfied: ipython in c:\\users\\nihar\\appdata\\roaming\\python\\python310\\site-packages (8.13.2)\n",
      "Requirement already satisfied: django-extensions in c:\\users\\nihar\\appdata\\roaming\\python\\python310\\site-packages (3.2.1)\n",
      "Requirement already satisfied: ipywidgets in c:\\programdata\\anaconda3\\lib\\site-packages (from jupyter) (7.6.5)\n",
      "Requirement already satisfied: notebook in c:\\programdata\\anaconda3\\lib\\site-packages (from jupyter) (6.5.2)\n",
      "Requirement already satisfied: nbconvert in c:\\programdata\\anaconda3\\lib\\site-packages (from jupyter) (6.5.4)\n",
      "Requirement already satisfied: ipykernel in c:\\users\\nihar\\appdata\\roaming\\python\\python310\\site-packages (from jupyter) (6.23.0)\n",
      "Requirement already satisfied: qtconsole in c:\\programdata\\anaconda3\\lib\\site-packages (from jupyter) (5.4.0)\n",
      "Requirement already satisfied: jupyter-console in c:\\programdata\\anaconda3\\lib\\site-packages (from jupyter) (6.6.2)\n",
      "Requirement already satisfied: prompt-toolkit!=3.0.37,<3.1.0,>=3.0.30 in c:\\users\\nihar\\appdata\\roaming\\python\\python310\\site-packages (from ipython) (3.0.38)\n",
      "Requirement already satisfied: pickleshare in c:\\users\\nihar\\appdata\\roaming\\python\\python310\\site-packages (from ipython) (0.7.5)\n",
      "Requirement already satisfied: stack-data in c:\\users\\nihar\\appdata\\roaming\\python\\python310\\site-packages (from ipython) (0.6.2)\n",
      "Requirement already satisfied: jedi>=0.16 in c:\\users\\nihar\\appdata\\roaming\\python\\python310\\site-packages (from ipython) (0.18.2)\n",
      "Requirement already satisfied: colorama in c:\\users\\nihar\\appdata\\roaming\\python\\python310\\site-packages (from ipython) (0.4.6)\n",
      "Requirement already satisfied: traitlets>=5 in c:\\users\\nihar\\appdata\\roaming\\python\\python310\\site-packages (from ipython) (5.9.0)\n",
      "Requirement already satisfied: pygments>=2.4.0 in c:\\users\\nihar\\appdata\\roaming\\python\\python310\\site-packages (from ipython) (2.15.1)\n",
      "Requirement already satisfied: matplotlib-inline in c:\\users\\nihar\\appdata\\roaming\\python\\python310\\site-packages (from ipython) (0.1.6)\n",
      "Requirement already satisfied: decorator in c:\\users\\nihar\\appdata\\roaming\\python\\python310\\site-packages (from ipython) (5.1.1)\n",
      "Requirement already satisfied: backcall in c:\\users\\nihar\\appdata\\roaming\\python\\python310\\site-packages (from ipython) (0.2.0)\n",
      "Requirement already satisfied: Django>=3.2 in c:\\users\\nihar\\appdata\\roaming\\python\\python310\\site-packages (from django-extensions) (4.2.1)\n",
      "Requirement already satisfied: asgiref<4,>=3.6.0 in c:\\users\\nihar\\appdata\\roaming\\python\\python310\\site-packages (from Django>=3.2->django-extensions) (3.6.0)\n",
      "Requirement already satisfied: sqlparse>=0.3.1 in c:\\users\\nihar\\appdata\\roaming\\python\\python310\\site-packages (from Django>=3.2->django-extensions) (0.4.4)\n",
      "Requirement already satisfied: tzdata in c:\\users\\nihar\\appdata\\roaming\\python\\python310\\site-packages (from Django>=3.2->django-extensions) (2023.3)\n",
      "Requirement already satisfied: parso<0.9.0,>=0.8.0 in c:\\users\\nihar\\appdata\\roaming\\python\\python310\\site-packages (from jedi>=0.16->ipython) (0.8.3)\n",
      "Requirement already satisfied: wcwidth in c:\\users\\nihar\\appdata\\roaming\\python\\python310\\site-packages (from prompt-toolkit!=3.0.37,<3.1.0,>=3.0.30->ipython) (0.2.6)\n",
      "Requirement already satisfied: debugpy>=1.6.5 in c:\\users\\nihar\\appdata\\roaming\\python\\python310\\site-packages (from ipykernel->jupyter) (1.6.7)\n",
      "Requirement already satisfied: jupyter-client>=6.1.12 in c:\\users\\nihar\\appdata\\roaming\\python\\python310\\site-packages (from ipykernel->jupyter) (8.2.0)\n",
      "Requirement already satisfied: nest-asyncio in c:\\users\\nihar\\appdata\\roaming\\python\\python310\\site-packages (from ipykernel->jupyter) (1.5.6)\n",
      "Requirement already satisfied: psutil in c:\\users\\nihar\\appdata\\roaming\\python\\python310\\site-packages (from ipykernel->jupyter) (5.9.5)\n",
      "Requirement already satisfied: pyzmq>=20 in c:\\users\\nihar\\appdata\\roaming\\python\\python310\\site-packages (from ipykernel->jupyter) (25.0.2)\n",
      "Requirement already satisfied: comm>=0.1.1 in c:\\users\\nihar\\appdata\\roaming\\python\\python310\\site-packages (from ipykernel->jupyter) (0.1.3)\n",
      "Requirement already satisfied: jupyter-core!=5.0.*,>=4.12 in c:\\users\\nihar\\appdata\\roaming\\python\\python310\\site-packages (from ipykernel->jupyter) (5.3.0)\n",
      "Requirement already satisfied: packaging in c:\\users\\nihar\\appdata\\roaming\\python\\python310\\site-packages (from ipykernel->jupyter) (23.1)\n",
      "Requirement already satisfied: tornado>=6.1 in c:\\users\\nihar\\appdata\\roaming\\python\\python310\\site-packages (from ipykernel->jupyter) (6.3.1)\n",
      "Requirement already satisfied: ipython-genutils~=0.2.0 in c:\\programdata\\anaconda3\\lib\\site-packages (from ipywidgets->jupyter) (0.2.0)\n",
      "Requirement already satisfied: widgetsnbextension~=3.5.0 in c:\\programdata\\anaconda3\\lib\\site-packages (from ipywidgets->jupyter) (3.5.2)\n",
      "Requirement already satisfied: nbformat>=4.2.0 in c:\\programdata\\anaconda3\\lib\\site-packages (from ipywidgets->jupyter) (5.7.0)\n",
      "Requirement already satisfied: jupyterlab-widgets>=1.0.0 in c:\\programdata\\anaconda3\\lib\\site-packages (from ipywidgets->jupyter) (1.0.0)\n",
      "Requirement already satisfied: defusedxml in c:\\programdata\\anaconda3\\lib\\site-packages (from nbconvert->jupyter) (0.7.1)\n",
      "Requirement already satisfied: mistune<2,>=0.8.1 in c:\\programdata\\anaconda3\\lib\\site-packages (from nbconvert->jupyter) (0.8.4)\n",
      "Requirement already satisfied: bleach in c:\\programdata\\anaconda3\\lib\\site-packages (from nbconvert->jupyter) (4.1.0)\n",
      "Requirement already satisfied: jupyterlab-pygments in c:\\programdata\\anaconda3\\lib\\site-packages (from nbconvert->jupyter) (0.1.2)\n",
      "Requirement already satisfied: beautifulsoup4 in c:\\programdata\\anaconda3\\lib\\site-packages (from nbconvert->jupyter) (4.11.1)\n",
      "Requirement already satisfied: lxml in c:\\programdata\\anaconda3\\lib\\site-packages (from nbconvert->jupyter) (4.9.1)\n",
      "Requirement already satisfied: nbclient>=0.5.0 in c:\\programdata\\anaconda3\\lib\\site-packages (from nbconvert->jupyter) (0.5.13)\n",
      "Requirement already satisfied: jinja2>=3.0 in c:\\programdata\\anaconda3\\lib\\site-packages (from nbconvert->jupyter) (3.1.2)\n",
      "Requirement already satisfied: tinycss2 in c:\\programdata\\anaconda3\\lib\\site-packages (from nbconvert->jupyter) (1.2.1)\n",
      "Requirement already satisfied: entrypoints>=0.2.2 in c:\\programdata\\anaconda3\\lib\\site-packages (from nbconvert->jupyter) (0.4)\n",
      "Requirement already satisfied: MarkupSafe>=2.0 in c:\\programdata\\anaconda3\\lib\\site-packages (from nbconvert->jupyter) (2.1.1)\n",
      "Requirement already satisfied: pandocfilters>=1.4.1 in c:\\programdata\\anaconda3\\lib\\site-packages (from nbconvert->jupyter) (1.5.0)\n",
      "Requirement already satisfied: nbclassic>=0.4.7 in c:\\programdata\\anaconda3\\lib\\site-packages (from notebook->jupyter) (0.5.2)\n",
      "Requirement already satisfied: prometheus-client in c:\\programdata\\anaconda3\\lib\\site-packages (from notebook->jupyter) (0.14.1)\n",
      "Requirement already satisfied: Send2Trash>=1.8.0 in c:\\programdata\\anaconda3\\lib\\site-packages (from notebook->jupyter) (1.8.0)\n",
      "Requirement already satisfied: argon2-cffi in c:\\programdata\\anaconda3\\lib\\site-packages (from notebook->jupyter) (21.3.0)\n",
      "Requirement already satisfied: terminado>=0.8.3 in c:\\programdata\\anaconda3\\lib\\site-packages (from notebook->jupyter) (0.17.1)\n",
      "Requirement already satisfied: qtpy>=2.0.1 in c:\\programdata\\anaconda3\\lib\\site-packages (from qtconsole->jupyter) (2.2.0)\n",
      "Requirement already satisfied: pure-eval in c:\\users\\nihar\\appdata\\roaming\\python\\python310\\site-packages (from stack-data->ipython) (0.2.2)\n",
      "Requirement already satisfied: executing>=1.2.0 in c:\\users\\nihar\\appdata\\roaming\\python\\python310\\site-packages (from stack-data->ipython) (1.2.0)\n",
      "Requirement already satisfied: asttokens>=2.1.0 in c:\\users\\nihar\\appdata\\roaming\\python\\python310\\site-packages (from stack-data->ipython) (2.2.1)\n",
      "Requirement already satisfied: six in c:\\users\\nihar\\appdata\\roaming\\python\\python310\\site-packages (from asttokens>=2.1.0->stack-data->ipython) (1.16.0)\n",
      "Requirement already satisfied: python-dateutil>=2.8.2 in c:\\users\\nihar\\appdata\\roaming\\python\\python310\\site-packages (from jupyter-client>=6.1.12->ipykernel->jupyter) (2.8.2)\n",
      "Requirement already satisfied: pywin32>=300 in c:\\users\\nihar\\appdata\\roaming\\python\\python310\\site-packages (from jupyter-core!=5.0.*,>=4.12->ipykernel->jupyter) (306)\n",
      "Requirement already satisfied: platformdirs>=2.5 in c:\\users\\nihar\\appdata\\roaming\\python\\python310\\site-packages (from jupyter-core!=5.0.*,>=4.12->ipykernel->jupyter) (3.5.0)\n",
      "Requirement already satisfied: notebook-shim>=0.1.0 in c:\\programdata\\anaconda3\\lib\\site-packages (from nbclassic>=0.4.7->notebook->jupyter) (0.2.2)\n",
      "Requirement already satisfied: jupyter-server>=1.8 in c:\\programdata\\anaconda3\\lib\\site-packages (from nbclassic>=0.4.7->notebook->jupyter) (1.23.4)\n",
      "Requirement already satisfied: fastjsonschema in c:\\programdata\\anaconda3\\lib\\site-packages (from nbformat>=4.2.0->ipywidgets->jupyter) (2.16.2)\n",
      "Requirement already satisfied: jsonschema>=2.6 in c:\\programdata\\anaconda3\\lib\\site-packages (from nbformat>=4.2.0->ipywidgets->jupyter) (4.17.3)\n",
      "Requirement already satisfied: pywinpty>=1.1.0 in c:\\programdata\\anaconda3\\lib\\site-packages (from terminado>=0.8.3->notebook->jupyter) (2.0.10)\n",
      "Requirement already satisfied: argon2-cffi-bindings in c:\\programdata\\anaconda3\\lib\\site-packages (from argon2-cffi->notebook->jupyter) (21.2.0)\n",
      "Requirement already satisfied: soupsieve>1.2 in c:\\programdata\\anaconda3\\lib\\site-packages (from beautifulsoup4->nbconvert->jupyter) (2.3.2.post1)\n",
      "Requirement already satisfied: webencodings in c:\\programdata\\anaconda3\\lib\\site-packages (from bleach->nbconvert->jupyter) (0.5.1)\n",
      "Requirement already satisfied: attrs>=17.4.0 in c:\\programdata\\anaconda3\\lib\\site-packages (from jsonschema>=2.6->nbformat>=4.2.0->ipywidgets->jupyter) (22.1.0)\n",
      "Requirement already satisfied: pyrsistent!=0.17.0,!=0.17.1,!=0.17.2,>=0.14.0 in c:\\programdata\\anaconda3\\lib\\site-packages (from jsonschema>=2.6->nbformat>=4.2.0->ipywidgets->jupyter) (0.18.0)\n",
      "Requirement already satisfied: websocket-client in c:\\programdata\\anaconda3\\lib\\site-packages (from jupyter-server>=1.8->nbclassic>=0.4.7->notebook->jupyter) (0.58.0)\n",
      "Requirement already satisfied: anyio<4,>=3.1.0 in c:\\programdata\\anaconda3\\lib\\site-packages (from jupyter-server>=1.8->nbclassic>=0.4.7->notebook->jupyter) (3.5.0)\n",
      "Requirement already satisfied: cffi>=1.0.1 in c:\\programdata\\anaconda3\\lib\\site-packages (from argon2-cffi-bindings->argon2-cffi->notebook->jupyter) (1.15.1)\n",
      "Requirement already satisfied: idna>=2.8 in c:\\users\\nihar\\appdata\\roaming\\python\\python310\\site-packages (from anyio<4,>=3.1.0->jupyter-server>=1.8->nbclassic>=0.4.7->notebook->jupyter) (2.10)\n",
      "Requirement already satisfied: sniffio>=1.1 in c:\\programdata\\anaconda3\\lib\\site-packages (from anyio<4,>=3.1.0->jupyter-server>=1.8->nbclassic>=0.4.7->notebook->jupyter) (1.2.0)\n",
      "Requirement already satisfied: pycparser in c:\\programdata\\anaconda3\\lib\\site-packages (from cffi>=1.0.1->argon2-cffi-bindings->argon2-cffi->notebook->jupyter) (2.21)\n",
      "Note: you may need to restart the kernel to use updated packages.\n"
     ]
    }
   ],
   "source": [
    " %pip install jupyter ipython django-extensions"
   ]
  },
  {
   "cell_type": "code",
   "execution_count": 5,
   "id": "fa824f24",
   "metadata": {},
   "outputs": [
    {
     "name": "stdout",
     "output_type": "stream",
     "text": [
      "Defaulting to user installation because normal site-packages is not writeable\n",
      "Requirement already satisfied: opencv-python in c:\\users\\nihar\\appdata\\roaming\\python\\python310\\site-packages (4.7.0.72)\n",
      "Requirement already satisfied: numpy>=1.21.2 in c:\\programdata\\anaconda3\\lib\\site-packages (from opencv-python) (1.23.5)\n",
      "Note: you may need to restart the kernel to use updated packages.\n",
      "Defaulting to user installation because normal site-packages is not writeable\n",
      "Requirement already satisfied: torch in c:\\users\\nihar\\appdata\\roaming\\python\\python310\\site-packages (2.0.1)\n",
      "Requirement already satisfied: filelock in c:\\users\\nihar\\appdata\\roaming\\python\\python310\\site-packages (from torch) (3.12.0)\n",
      "Requirement already satisfied: sympy in c:\\programdata\\anaconda3\\lib\\site-packages (from torch) (1.11.1)\n",
      "Requirement already satisfied: jinja2 in c:\\programdata\\anaconda3\\lib\\site-packages (from torch) (3.1.2)\n",
      "Requirement already satisfied: typing-extensions in c:\\programdata\\anaconda3\\lib\\site-packages (from torch) (4.4.0)\n",
      "Requirement already satisfied: networkx in c:\\programdata\\anaconda3\\lib\\site-packages (from torch) (2.8.4)\n",
      "Requirement already satisfied: MarkupSafe>=2.0 in c:\\programdata\\anaconda3\\lib\\site-packages (from jinja2->torch) (2.1.1)\n",
      "Requirement already satisfied: mpmath>=0.19 in c:\\programdata\\anaconda3\\lib\\site-packages (from sympy->torch) (1.2.1)\n",
      "Note: you may need to restart the kernel to use updated packages.\n"
     ]
    }
   ],
   "source": [
    "%pip install opencv-python\n",
    "import cv2\n",
    "import os\n",
    "import uuid\n",
    "import time\n",
    "%pip install torch\n",
    "import torch\n",
    "import numpy as np\n",
    "from matplotlib import pyplot as plt\n",
    "from django.shortcuts import render"
   ]
  },
  {
   "cell_type": "markdown",
   "id": "9ea1c6f4",
   "metadata": {},
   "source": [
    "\n"
   ]
  },
  {
   "cell_type": "markdown",
   "id": "579e91f6",
   "metadata": {},
   "source": [
    "\n"
   ]
  },
  {
   "cell_type": "markdown",
   "id": "3d8d8f03",
   "metadata": {},
   "source": [
    "\n"
   ]
  },
  {
   "cell_type": "markdown",
   "id": "15044d1e",
   "metadata": {},
   "source": [
    "## Function of sending photo through telegram i.e., send_pht_te()\n",
    "##### Bot Token id= 6068134678:AAFO3pitX0shqpGIPCst7RAXtXE-z1hJZOs\n",
    "##### Group Chat id = -1001908938985"
   ]
  },
  {
   "cell_type": "code",
   "execution_count": null,
   "id": "5e0c2616",
   "metadata": {},
   "outputs": [],
   "source": []
  },
  {
   "cell_type": "code",
   "execution_count": 6,
   "id": "7ff6b48f",
   "metadata": {},
   "outputs": [
    {
     "name": "stdout",
     "output_type": "stream",
     "text": [
      "{\"ok\":true,\"result\":{\"message_id\":379,\"from\":{\"id\":6068134678,\"is_bot\":true,\"first_name\":\"Eureka\",\"username\":\"Eurekafirstbot\"},\"chat\":{\"id\":-1001908938985,\"title\":\"Mini Project\",\"type\":\"supergroup\"},\"date\":1688535170,\"photo\":[{\"file_id\":\"AgACAgUAAx0EccgY6QACAXtkpQABgupIoRd1g0dnmeWN2MNNIuMAA7gxG0I5KVXUHVykocPJtgEAAwIAA3MAAy8E\",\"file_unique_id\":\"AQAEuDEbQjkpVXg\",\"file_size\":1208,\"width\":90,\"height\":90},{\"file_id\":\"AgACAgUAAx0EccgY6QACAXtkpQABgupIoRd1g0dnmeWN2MNNIuMAA7gxG0I5KVXUHVykocPJtgEAAwIAA20AAy8E\",\"file_unique_id\":\"AQAEuDEbQjkpVXI\",\"file_size\":11765,\"width\":320,\"height\":320},{\"file_id\":\"AgACAgUAAx0EccgY6QACAXtkpQABgupIoRd1g0dnmeWN2MNNIuMAA7gxG0I5KVXUHVykocPJtgEAAwIAA3gAAy8E\",\"file_unique_id\":\"AQAEuDEbQjkpVX0\",\"file_size\":24227,\"width\":640,\"height\":640}],\"caption\":\"Vehicle Without Number Plate\"}}\n"
     ]
    }
   ],
   "source": [
    "#photo_path=open(\"C://Users//nihar//Downloads//images and labels//train//images//train14.jpg\",\"rb\")\n",
    "#photo_path=open(\"filepath\",\"rb\")\n",
    "\n",
    "#-1001908938985 1908938985\n",
    "\n",
    "def send_pht_te(photo_path):\n",
    "    base_url=\"https://api.telegram.org/bot6068134678:AAFO3pitX0shqpGIPCst7RAXtXE-z1hJZOs/sendPhoto\"\n",
    "    #base_url=\"https://api.telegram.org/bot_replace your bot id_/sendPhoto\" refer above line\n",
    "    parameters={\n",
    "        \"chat_id\": \"-1001908938985\", #Replace Your Chat id here\n",
    "        \"caption\":\"Vehicle Without Number Plate\" #Replace message  here\n",
    "         \n",
    "        \n",
    "    }\n",
    "    my_file={\n",
    "        \"photo\" : photo_path\n",
    "    }\n",
    "    resp=requests.get(base_url,data=parameters,files=my_file)\n",
    "    print(resp.text)\n",
    "\n",
    "\n",
    "send_pht_te(photo_path=open(\"C://Users//nihar//Downloads//images and labels//train//images//train14.jpg\",\"rb\"))"
   ]
  },
  {
   "cell_type": "markdown",
   "id": "ccb6e44c",
   "metadata": {},
   "source": [
    " \n",
    " \n",
    " \n",
    " \n",
    " \n",
    " \n",
    " \n",
    " \n",
    " \n",
    " \n",
    " \n",
    " "
   ]
  },
  {
   "cell_type": "markdown",
   "id": "bb346156",
   "metadata": {},
   "source": [
    "\n",
    "\n",
    "\n",
    "\n",
    "\n"
   ]
  },
  {
   "cell_type": "markdown",
   "id": "e83b477f",
   "metadata": {},
   "source": [
    "\n"
   ]
  },
  {
   "cell_type": "markdown",
   "id": "6e8bc853",
   "metadata": {},
   "source": [
    "#### To Run The Object Detection Model"
   ]
  },
  {
   "cell_type": "code",
   "execution_count": 7,
   "id": "4c2545af",
   "metadata": {},
   "outputs": [
    {
     "name": "stdout",
     "output_type": "stream",
     "text": [
      "Defaulting to user installation because normal site-packages is not writeable\n",
      "Requirement already satisfied: tensorflow in c:\\users\\nihar\\appdata\\roaming\\python\\python310\\site-packages (2.12.0)\n",
      "Requirement already satisfied: tensorflow-intel==2.12.0 in c:\\users\\nihar\\appdata\\roaming\\python\\python310\\site-packages (from tensorflow) (2.12.0)\n",
      "Requirement already satisfied: jax>=0.3.15 in c:\\users\\nihar\\appdata\\roaming\\python\\python310\\site-packages (from tensorflow-intel==2.12.0->tensorflow) (0.4.10)\n",
      "Requirement already satisfied: protobuf!=4.21.0,!=4.21.1,!=4.21.2,!=4.21.3,!=4.21.4,!=4.21.5,<5.0.0dev,>=3.20.3 in c:\\users\\nihar\\appdata\\roaming\\python\\python310\\site-packages (from tensorflow-intel==2.12.0->tensorflow) (4.23.0)\n",
      "Requirement already satisfied: grpcio<2.0,>=1.24.3 in c:\\users\\nihar\\appdata\\roaming\\python\\python310\\site-packages (from tensorflow-intel==2.12.0->tensorflow) (1.54.2)\n",
      "Requirement already satisfied: h5py>=2.9.0 in c:\\programdata\\anaconda3\\lib\\site-packages (from tensorflow-intel==2.12.0->tensorflow) (3.7.0)\n",
      "Requirement already satisfied: tensorboard<2.13,>=2.12 in c:\\users\\nihar\\appdata\\roaming\\python\\python310\\site-packages (from tensorflow-intel==2.12.0->tensorflow) (2.12.3)\n",
      "Requirement already satisfied: tensorflow-estimator<2.13,>=2.12.0 in c:\\users\\nihar\\appdata\\roaming\\python\\python310\\site-packages (from tensorflow-intel==2.12.0->tensorflow) (2.12.0)\n",
      "Requirement already satisfied: setuptools in c:\\programdata\\anaconda3\\lib\\site-packages (from tensorflow-intel==2.12.0->tensorflow) (65.6.3)\n",
      "Requirement already satisfied: gast<=0.4.0,>=0.2.1 in c:\\users\\nihar\\appdata\\roaming\\python\\python310\\site-packages (from tensorflow-intel==2.12.0->tensorflow) (0.4.0)\n",
      "Requirement already satisfied: packaging in c:\\users\\nihar\\appdata\\roaming\\python\\python310\\site-packages (from tensorflow-intel==2.12.0->tensorflow) (23.1)\n",
      "Requirement already satisfied: google-pasta>=0.1.1 in c:\\users\\nihar\\appdata\\roaming\\python\\python310\\site-packages (from tensorflow-intel==2.12.0->tensorflow) (0.2.0)\n",
      "Requirement already satisfied: termcolor>=1.1.0 in c:\\users\\nihar\\appdata\\roaming\\python\\python310\\site-packages (from tensorflow-intel==2.12.0->tensorflow) (2.3.0)\n",
      "Requirement already satisfied: libclang>=13.0.0 in c:\\users\\nihar\\appdata\\roaming\\python\\python310\\site-packages (from tensorflow-intel==2.12.0->tensorflow) (16.0.0)\n",
      "Requirement already satisfied: keras<2.13,>=2.12.0 in c:\\users\\nihar\\appdata\\roaming\\python\\python310\\site-packages (from tensorflow-intel==2.12.0->tensorflow) (2.12.0)\n",
      "Requirement already satisfied: absl-py>=1.0.0 in c:\\users\\nihar\\appdata\\roaming\\python\\python310\\site-packages (from tensorflow-intel==2.12.0->tensorflow) (1.4.0)\n",
      "Requirement already satisfied: tensorflow-io-gcs-filesystem>=0.23.1 in c:\\users\\nihar\\appdata\\roaming\\python\\python310\\site-packages (from tensorflow-intel==2.12.0->tensorflow) (0.31.0)\n",
      "Requirement already satisfied: wrapt<1.15,>=1.11.0 in c:\\programdata\\anaconda3\\lib\\site-packages (from tensorflow-intel==2.12.0->tensorflow) (1.14.1)\n",
      "Requirement already satisfied: opt-einsum>=2.3.2 in c:\\users\\nihar\\appdata\\roaming\\python\\python310\\site-packages (from tensorflow-intel==2.12.0->tensorflow) (3.3.0)\n",
      "Requirement already satisfied: typing-extensions>=3.6.6 in c:\\programdata\\anaconda3\\lib\\site-packages (from tensorflow-intel==2.12.0->tensorflow) (4.4.0)\n",
      "Requirement already satisfied: six>=1.12.0 in c:\\users\\nihar\\appdata\\roaming\\python\\python310\\site-packages (from tensorflow-intel==2.12.0->tensorflow) (1.16.0)\n",
      "Requirement already satisfied: numpy<1.24,>=1.22 in c:\\programdata\\anaconda3\\lib\\site-packages (from tensorflow-intel==2.12.0->tensorflow) (1.23.5)\n",
      "Requirement already satisfied: flatbuffers>=2.0 in c:\\users\\nihar\\appdata\\roaming\\python\\python310\\site-packages (from tensorflow-intel==2.12.0->tensorflow) (23.5.9)\n",
      "Requirement already satisfied: astunparse>=1.6.0 in c:\\users\\nihar\\appdata\\roaming\\python\\python310\\site-packages (from tensorflow-intel==2.12.0->tensorflow) (1.6.3)\n",
      "Requirement already satisfied: wheel<1.0,>=0.23.0 in c:\\programdata\\anaconda3\\lib\\site-packages (from astunparse>=1.6.0->tensorflow-intel==2.12.0->tensorflow) (0.38.4)\n",
      "Requirement already satisfied: ml-dtypes>=0.1.0 in c:\\users\\nihar\\appdata\\roaming\\python\\python310\\site-packages (from jax>=0.3.15->tensorflow-intel==2.12.0->tensorflow) (0.1.0)\n",
      "Requirement already satisfied: scipy>=1.7 in c:\\programdata\\anaconda3\\lib\\site-packages (from jax>=0.3.15->tensorflow-intel==2.12.0->tensorflow) (1.10.0)\n",
      "Requirement already satisfied: werkzeug>=1.0.1 in c:\\programdata\\anaconda3\\lib\\site-packages (from tensorboard<2.13,>=2.12->tensorflow-intel==2.12.0->tensorflow) (2.2.2)\n",
      "Requirement already satisfied: google-auth-oauthlib<1.1,>=0.5 in c:\\users\\nihar\\appdata\\roaming\\python\\python310\\site-packages (from tensorboard<2.13,>=2.12->tensorflow-intel==2.12.0->tensorflow) (1.0.0)\n",
      "Requirement already satisfied: markdown>=2.6.8 in c:\\programdata\\anaconda3\\lib\\site-packages (from tensorboard<2.13,>=2.12->tensorflow-intel==2.12.0->tensorflow) (3.4.1)\n",
      "Requirement already satisfied: tensorboard-data-server<0.8.0,>=0.7.0 in c:\\users\\nihar\\appdata\\roaming\\python\\python310\\site-packages (from tensorboard<2.13,>=2.12->tensorflow-intel==2.12.0->tensorflow) (0.7.0)\n",
      "Requirement already satisfied: google-auth<3,>=1.6.3 in c:\\users\\nihar\\appdata\\roaming\\python\\python310\\site-packages (from tensorboard<2.13,>=2.12->tensorflow-intel==2.12.0->tensorflow) (2.17.3)\n",
      "Requirement already satisfied: requests<3,>=2.21.0 in c:\\programdata\\anaconda3\\lib\\site-packages (from tensorboard<2.13,>=2.12->tensorflow-intel==2.12.0->tensorflow) (2.28.1)\n",
      "Requirement already satisfied: cachetools<6.0,>=2.0.0 in c:\\users\\nihar\\appdata\\roaming\\python\\python310\\site-packages (from google-auth<3,>=1.6.3->tensorboard<2.13,>=2.12->tensorflow-intel==2.12.0->tensorflow) (5.3.0)\n",
      "Requirement already satisfied: pyasn1-modules>=0.2.1 in c:\\programdata\\anaconda3\\lib\\site-packages (from google-auth<3,>=1.6.3->tensorboard<2.13,>=2.12->tensorflow-intel==2.12.0->tensorflow) (0.2.8)\n",
      "Requirement already satisfied: rsa<5,>=3.1.4 in c:\\users\\nihar\\appdata\\roaming\\python\\python310\\site-packages (from google-auth<3,>=1.6.3->tensorboard<2.13,>=2.12->tensorflow-intel==2.12.0->tensorflow) (4.9)\n",
      "Requirement already satisfied: requests-oauthlib>=0.7.0 in c:\\users\\nihar\\appdata\\roaming\\python\\python310\\site-packages (from google-auth-oauthlib<1.1,>=0.5->tensorboard<2.13,>=2.12->tensorflow-intel==2.12.0->tensorflow) (1.3.1)\n",
      "Requirement already satisfied: urllib3<1.27,>=1.21.1 in c:\\programdata\\anaconda3\\lib\\site-packages (from requests<3,>=2.21.0->tensorboard<2.13,>=2.12->tensorflow-intel==2.12.0->tensorflow) (1.26.14)\n",
      "Requirement already satisfied: idna<4,>=2.5 in c:\\users\\nihar\\appdata\\roaming\\python\\python310\\site-packages (from requests<3,>=2.21.0->tensorboard<2.13,>=2.12->tensorflow-intel==2.12.0->tensorflow) (2.10)\n",
      "Requirement already satisfied: certifi>=2017.4.17 in c:\\programdata\\anaconda3\\lib\\site-packages (from requests<3,>=2.21.0->tensorboard<2.13,>=2.12->tensorflow-intel==2.12.0->tensorflow) (2022.12.7)\n",
      "Requirement already satisfied: charset-normalizer<3,>=2 in c:\\programdata\\anaconda3\\lib\\site-packages (from requests<3,>=2.21.0->tensorboard<2.13,>=2.12->tensorflow-intel==2.12.0->tensorflow) (2.0.4)\n",
      "Requirement already satisfied: MarkupSafe>=2.1.1 in c:\\programdata\\anaconda3\\lib\\site-packages (from werkzeug>=1.0.1->tensorboard<2.13,>=2.12->tensorflow-intel==2.12.0->tensorflow) (2.1.1)\n",
      "Requirement already satisfied: pyasn1<0.5.0,>=0.4.6 in c:\\programdata\\anaconda3\\lib\\site-packages (from pyasn1-modules>=0.2.1->google-auth<3,>=1.6.3->tensorboard<2.13,>=2.12->tensorflow-intel==2.12.0->tensorflow) (0.4.8)\n",
      "Requirement already satisfied: oauthlib>=3.0.0 in c:\\users\\nihar\\appdata\\roaming\\python\\python310\\site-packages (from requests-oauthlib>=0.7.0->google-auth-oauthlib<1.1,>=0.5->tensorboard<2.13,>=2.12->tensorflow-intel==2.12.0->tensorflow) (3.2.2)\n",
      "Note: you may need to restart the kernel to use updated packages.\n"
     ]
    }
   ],
   "source": [
    "%pip install tensorflow"
   ]
  },
  {
   "cell_type": "code",
   "execution_count": 8,
   "id": "3c198628",
   "metadata": {},
   "outputs": [
    {
     "name": "stdout",
     "output_type": "stream",
     "text": [
      "Defaulting to user installation because normal site-packages is not writeable\n",
      "Requirement already satisfied: keras in c:\\users\\nihar\\appdata\\roaming\\python\\python310\\site-packages (2.12.0)\n",
      "Note: you may need to restart the kernel to use updated packages.\n"
     ]
    }
   ],
   "source": [
    "%pip install keras"
   ]
  },
  {
   "cell_type": "code",
   "execution_count": 9,
   "id": "864493b0",
   "metadata": {},
   "outputs": [],
   "source": [
    "from tensorflow.keras.models import Model"
   ]
  },
  {
   "cell_type": "code",
   "execution_count": 10,
   "id": "4db55a65",
   "metadata": {},
   "outputs": [
    {
     "name": "stderr",
     "output_type": "stream",
     "text": [
      "Downloading: \"https://github.com/ultralytics/yolov5/zipball/master\" to C:\\Users\\nihar/.cache\\torch\\hub\\master.zip\n",
      "YOLOv5  2023-7-5 Python-3.10.9 torch-2.0.1+cpu CPU\n",
      "\n",
      "Fusing layers... \n",
      "Model summary: 157 layers, 7015519 parameters, 0 gradients, 15.8 GFLOPs\n",
      "Adding AutoShape... \n"
     ]
    }
   ],
   "source": [
    "import torch\n",
    "#C:\\Users\\nihar\\Downloads  is file path\n",
    "model = torch.hub.load('ultralytics/yolov5', 'custom', path='C:\\\\Users\\\\nihar\\\\Downloads\\\\last.pt', force_reload=True)\n",
    "#C:\\Users\\nihar\\Downloads\\last.pt is the file path of the model"
   ]
  },
  {
   "cell_type": "markdown",
   "id": "12213ae0",
   "metadata": {},
   "source": [
    "#### Detection through webcam"
   ]
  },
  {
   "cell_type": "code",
   "execution_count": 12,
   "id": "a1bb358f",
   "metadata": {
    "scrolled": true
   },
   "outputs": [
    {
     "name": "stdout",
     "output_type": "stream",
     "text": [
      "{\"ok\":true,\"result\":{\"message_id\":382,\"from\":{\"id\":6068134678,\"is_bot\":true,\"first_name\":\"Eureka\",\"username\":\"Eurekafirstbot\"},\"chat\":{\"id\":-1001908938985,\"title\":\"Mini Project\",\"type\":\"supergroup\"},\"date\":1688535509,\"photo\":[{\"file_id\":\"AgACAgUAAx0EccgY6QACAX5kpQHVAvNQQboo5LfwNPP4x9WjnAACA7gxG0I5KVVNponXzpcjHgEAAwIAA3MAAy8E\",\"file_unique_id\":\"AQADA7gxG0I5KVV4\",\"file_size\":1346,\"width\":90,\"height\":67},{\"file_id\":\"AgACAgUAAx0EccgY6QACAX5kpQHVAvNQQboo5LfwNPP4x9WjnAACA7gxG0I5KVVNponXzpcjHgEAAwIAA20AAy8E\",\"file_unique_id\":\"AQADA7gxG0I5KVVy\",\"file_size\":13717,\"width\":320,\"height\":240},{\"file_id\":\"AgACAgUAAx0EccgY6QACAX5kpQHVAvNQQboo5LfwNPP4x9WjnAACA7gxG0I5KVVNponXzpcjHgEAAwIAA3gAAy8E\",\"file_unique_id\":\"AQADA7gxG0I5KVV9\",\"file_size\":40938,\"width\":640,\"height\":480}],\"caption\":\"Vehicle Without Number Plate\"}}\n",
      "{\"ok\":true,\"result\":{\"message_id\":383,\"from\":{\"id\":6068134678,\"is_bot\":true,\"first_name\":\"Eureka\",\"username\":\"Eurekafirstbot\"},\"chat\":{\"id\":-1001908938985,\"title\":\"Mini Project\",\"type\":\"supergroup\"},\"date\":1688535516,\"photo\":[{\"file_id\":\"AgACAgUAAx0EccgY6QACAX9kpQHcx4PDzMcfQBb9LRGAzqyHIwACBLgxG0I5KVWJOMWOsnfmxgEAAwIAA3MAAy8E\",\"file_unique_id\":\"AQADBLgxG0I5KVV4\",\"file_size\":1640,\"width\":90,\"height\":67},{\"file_id\":\"AgACAgUAAx0EccgY6QACAX9kpQHcx4PDzMcfQBb9LRGAzqyHIwACBLgxG0I5KVWJOMWOsnfmxgEAAwIAA20AAy8E\",\"file_unique_id\":\"AQADBLgxG0I5KVVy\",\"file_size\":17241,\"width\":320,\"height\":240},{\"file_id\":\"AgACAgUAAx0EccgY6QACAX9kpQHcx4PDzMcfQBb9LRGAzqyHIwACBLgxG0I5KVWJOMWOsnfmxgEAAwIAA3gAAy8E\",\"file_unique_id\":\"AQADBLgxG0I5KVV9\",\"file_size\":47047,\"width\":640,\"height\":480}],\"caption\":\"Vehicle Without Number Plate\"}}\n",
      "{\"ok\":true,\"result\":{\"message_id\":384,\"from\":{\"id\":6068134678,\"is_bot\":true,\"first_name\":\"Eureka\",\"username\":\"Eurekafirstbot\"},\"chat\":{\"id\":-1001908938985,\"title\":\"Mini Project\",\"type\":\"supergroup\"},\"date\":1688535520,\"photo\":[{\"file_id\":\"AgACAgUAAx0EccgY6QACAYBkpQHgXplMFMs18M5Ym-PY7lDDQgACBbgxG0I5KVWoamsoXoDUzgEAAwIAA3MAAy8E\",\"file_unique_id\":\"AQADBbgxG0I5KVV4\",\"file_size\":1543,\"width\":90,\"height\":67},{\"file_id\":\"AgACAgUAAx0EccgY6QACAYBkpQHgXplMFMs18M5Ym-PY7lDDQgACBbgxG0I5KVWoamsoXoDUzgEAAwIAA20AAy8E\",\"file_unique_id\":\"AQADBbgxG0I5KVVy\",\"file_size\":16144,\"width\":320,\"height\":240},{\"file_id\":\"AgACAgUAAx0EccgY6QACAYBkpQHgXplMFMs18M5Ym-PY7lDDQgACBbgxG0I5KVWoamsoXoDUzgEAAwIAA3gAAy8E\",\"file_unique_id\":\"AQADBbgxG0I5KVV9\",\"file_size\":44136,\"width\":640,\"height\":480}],\"caption\":\"Vehicle Without Number Plate\"}}\n",
      "{\"ok\":true,\"result\":{\"message_id\":385,\"from\":{\"id\":6068134678,\"is_bot\":true,\"first_name\":\"Eureka\",\"username\":\"Eurekafirstbot\"},\"chat\":{\"id\":-1001908938985,\"title\":\"Mini Project\",\"type\":\"supergroup\"},\"date\":1688535539,\"photo\":[{\"file_id\":\"AgACAgUAAx0EccgY6QACAYFkpQHzgytreps0MCDCcSSmvf0STAACBrgxG0I5KVUx7lleFUJWSgEAAwIAA3MAAy8E\",\"file_unique_id\":\"AQADBrgxG0I5KVV4\",\"file_size\":1500,\"width\":90,\"height\":67},{\"file_id\":\"AgACAgUAAx0EccgY6QACAYFkpQHzgytreps0MCDCcSSmvf0STAACBrgxG0I5KVUx7lleFUJWSgEAAwIAA20AAy8E\",\"file_unique_id\":\"AQADBrgxG0I5KVVy\",\"file_size\":16234,\"width\":320,\"height\":240},{\"file_id\":\"AgACAgUAAx0EccgY6QACAYFkpQHzgytreps0MCDCcSSmvf0STAACBrgxG0I5KVUx7lleFUJWSgEAAwIAA3gAAy8E\",\"file_unique_id\":\"AQADBrgxG0I5KVV9\",\"file_size\":44950,\"width\":640,\"height\":480}],\"caption\":\"Vehicle Without Number Plate\"}}\n"
     ]
    }
   ],
   "source": [
    "\n",
    "cap=cv2.VideoCapture(0)\n",
    "#addressc=\"https:/192.168.0.100:8080/video\"\n",
    "#cap.open(address)\n",
    "# the above two lines for the ip web camqqq\n",
    "while cap.isOpened():\n",
    "    ret,frame= cap.read()\n",
    "     \n",
    "    #frame = cv2.resize(frame, (480,640))\n",
    "    #frame = cv2.cvtColor(frame,cv2.COLOR_BGR2RBG)\n",
    "    results=model(frame)\n",
    "    \n",
    "    \n",
    "    if len(results.xywh[0]) > 0:\n",
    "        dconf = results.xywh[0][0][4]\n",
    "        dclass = results.xywh[0][0][5]\n",
    "        \n",
    "        # If the frame does not contain a number plate, save the image to a file and send it to the Telegram group\n",
    "        #dconf.item()>0.35 means confidence and dclass.item() == 0.0 means class \"0\" i.e., no number plate \n",
    "        #dclass.item() == 1.0 means class \"1\" i.e., number plate if u keep dclass.item()==1.0 then if number plate is present then the alert msg will be sent\n",
    "        if dconf.item()>0.35 and dclass.item() == 0.0:\n",
    "            cv2.imwrite('no_number_plate_image.jpg', frame)\n",
    "            send_pht_te(photo_path=open('no_number_plate_image.jpg', 'rb'))\n",
    "             \n",
    "        \n",
    "    cv2.imshow('YOLO',np.squeeze(results.render()))\n",
    "    \n",
    "    if cv2.waitKey(10) & 0xff == ord('q'):\n",
    "        break\n",
    "cap.release()\n",
    "cv2.destroyAllWindows()\n",
    "\n",
    "#To stop the prediction keep the cursor on pop up window and press \"q\" ,so that the predi\n",
    "    "
   ]
  },
  {
   "cell_type": "code",
   "execution_count": null,
   "id": "0f94616b",
   "metadata": {},
   "outputs": [],
   "source": []
  },
  {
   "cell_type": "code",
   "execution_count": null,
   "id": "52e17732",
   "metadata": {},
   "outputs": [],
   "source": []
  },
  {
   "cell_type": "code",
   "execution_count": null,
   "id": "61f8212f",
   "metadata": {},
   "outputs": [],
   "source": []
  },
  {
   "cell_type": "markdown",
   "id": "e19f70ff",
   "metadata": {},
   "source": [
    "#### Detection through input image"
   ]
  },
  {
   "cell_type": "code",
   "execution_count": 12,
   "id": "2cc1eed6",
   "metadata": {},
   "outputs": [
    {
     "name": "stdout",
     "output_type": "stream",
     "text": [
      "{\"ok\":true,\"result\":{\"message_id\":304,\"from\":{\"id\":6068134678,\"is_bot\":true,\"first_name\":\"Eureka\",\"username\":\"Eurekafirstbot\"},\"chat\":{\"id\":-1001908938985,\"title\":\"Mini Project\",\"type\":\"supergroup\"},\"date\":1687200104,\"photo\":[{\"file_id\":\"AgACAgUAAx0EccgY6QACATBkkKFouOBdtvM7B5ye7v6cfUN38AACD7cxG4LJiFQ3UXacmUXdUgEAAwIAA3MAAy8E\",\"file_unique_id\":\"AQADD7cxG4LJiFR4\",\"file_size\":1211,\"width\":90,\"height\":90},{\"file_id\":\"AgACAgUAAx0EccgY6QACATBkkKFouOBdtvM7B5ye7v6cfUN38AACD7cxG4LJiFQ3UXacmUXdUgEAAwIAA20AAy8E\",\"file_unique_id\":\"AQADD7cxG4LJiFRy\",\"file_size\":11769,\"width\":320,\"height\":320},{\"file_id\":\"AgACAgUAAx0EccgY6QACATBkkKFouOBdtvM7B5ye7v6cfUN38AACD7cxG4LJiFQ3UXacmUXdUgEAAwIAA3gAAy8E\",\"file_unique_id\":\"AQADD7cxG4LJiFR9\",\"file_size\":24384,\"width\":640,\"height\":640}],\"caption\":\"Vehicle Without Number Plate\"}}\n"
     ]
    }
   ],
   "source": [
    "import cv2\n",
    "#frame=cv2.imread('file path\\\\.filetype') \n",
    "frame=cv2.imread('C://Users//nihar//Downloads//images and labels//train//images//train14.jpg')\n",
    "#cv2.imshow(\"img\",frame)\n",
    "\n",
    "\n",
    "#frame = cv2.resize(frame, (640,520))\n",
    "#img = cv2.cvtColor(img,cv2.COLOR_BGR2GRAY)\n",
    "results=model(frame)\n",
    "#frame2 = cv2.resize(frame, (420,120))\n",
    "if len(results.xywh[0]) > 0:\n",
    "        dconf = results.xywh[0][0][4]\n",
    "        dclass = results.xywh[0][0][5]\n",
    "        \n",
    "        # If the frame does not contain a number plate, save the image to a file and send it to the Telegram group\n",
    "        if dconf.item()>0.15 and dclass.item() == 0.0:\n",
    "            cv2.imwrite('no_number_plate_image.jpg',frame)\n",
    "            send_pht_te(photo_path=open('no_number_plate_image.jpg', 'rb'))\n",
    "        \n",
    "        else:\n",
    "            dconf.item()>0.35 and dclass.item() == 1.0\n",
    "            cv2.imwrite('number_plate_image.jpg', frame)\n",
    "            send_pht_te(photo_path=open('number_plate_image.jpg', 'rb'))\n",
    "        \n",
    "cv2.imshow('yolo',np.squeeze(results.render()))\n",
    "cv2.waitKey(0) \n",
    "cv2.destroyAllWindows()\n"
   ]
  },
  {
   "cell_type": "code",
   "execution_count": 13,
   "id": "50635cd9",
   "metadata": {},
   "outputs": [],
   "source": [
    "img=os.path.join('data','images','C://Users//nihar//Downloads//images and labels//train//images//train4.jpg')"
   ]
  },
  {
   "cell_type": "code",
   "execution_count": 14,
   "id": "9236809e",
   "metadata": {},
   "outputs": [],
   "source": [
    "results=model(img)"
   ]
  },
  {
   "cell_type": "code",
   "execution_count": 15,
   "id": "695e5364",
   "metadata": {},
   "outputs": [
    {
     "name": "stderr",
     "output_type": "stream",
     "text": [
      "image 1/1: 640x640 1 No Number Plate\n",
      "Speed: 14.5ms pre-process, 259.6ms inference, 0.0ms NMS per image at shape (1, 3, 640, 640)\n"
     ]
    }
   ],
   "source": [
    "results.print()"
   ]
  },
  {
   "cell_type": "code",
   "execution_count": null,
   "id": "d81cccf2",
   "metadata": {},
   "outputs": [],
   "source": [
    "%matplotlib inline\n",
    "plt.imshow(np.squeeze(results.render()))\n",
    "plt.show()"
   ]
  },
  {
   "cell_type": "code",
   "execution_count": null,
   "id": "f739117f",
   "metadata": {},
   "outputs": [],
   "source": [
    " "
   ]
  },
  {
   "cell_type": "code",
   "execution_count": null,
   "id": "779add56",
   "metadata": {},
   "outputs": [],
   "source": []
  },
  {
   "cell_type": "code",
   "execution_count": null,
   "id": "162f7197",
   "metadata": {},
   "outputs": [],
   "source": []
  },
  {
   "cell_type": "code",
   "execution_count": null,
   "id": "ae9da151",
   "metadata": {},
   "outputs": [],
   "source": []
  },
  {
   "cell_type": "code",
   "execution_count": null,
   "id": "985d13da",
   "metadata": {},
   "outputs": [],
   "source": []
  },
  {
   "cell_type": "code",
   "execution_count": null,
   "id": "761cbac2",
   "metadata": {},
   "outputs": [],
   "source": []
  },
  {
   "cell_type": "code",
   "execution_count": null,
   "id": "606530a8",
   "metadata": {},
   "outputs": [],
   "source": []
  },
  {
   "cell_type": "code",
   "execution_count": null,
   "id": "be9fbdf1",
   "metadata": {},
   "outputs": [],
   "source": []
  },
  {
   "cell_type": "code",
   "execution_count": null,
   "id": "bb72a56d",
   "metadata": {},
   "outputs": [],
   "source": []
  },
  {
   "cell_type": "code",
   "execution_count": null,
   "id": "7ec97948",
   "metadata": {},
   "outputs": [],
   "source": []
  },
  {
   "cell_type": "code",
   "execution_count": null,
   "id": "10eedc94",
   "metadata": {},
   "outputs": [],
   "source": []
  },
  {
   "cell_type": "code",
   "execution_count": null,
   "id": "0c6ac6bb",
   "metadata": {},
   "outputs": [],
   "source": []
  },
  {
   "cell_type": "code",
   "execution_count": null,
   "id": "d31b2a44",
   "metadata": {},
   "outputs": [],
   "source": []
  },
  {
   "cell_type": "code",
   "execution_count": null,
   "id": "04f5b86e",
   "metadata": {},
   "outputs": [],
   "source": []
  },
  {
   "cell_type": "code",
   "execution_count": null,
   "id": "83c0228e",
   "metadata": {},
   "outputs": [],
   "source": []
  },
  {
   "cell_type": "code",
   "execution_count": null,
   "id": "225c422a",
   "metadata": {},
   "outputs": [],
   "source": []
  },
  {
   "cell_type": "code",
   "execution_count": null,
   "id": "f15db1d5",
   "metadata": {},
   "outputs": [],
   "source": []
  },
  {
   "cell_type": "code",
   "execution_count": null,
   "id": "27825c48",
   "metadata": {},
   "outputs": [],
   "source": []
  },
  {
   "cell_type": "code",
   "execution_count": null,
   "id": "ec61e47b",
   "metadata": {},
   "outputs": [],
   "source": []
  }
 ],
 "metadata": {
  "kernelspec": {
   "display_name": "Python 3 (ipykernel)",
   "language": "python",
   "name": "python3"
  },
  "language_info": {
   "codemirror_mode": {
    "name": "ipython",
    "version": 3
   },
   "file_extension": ".py",
   "mimetype": "text/x-python",
   "name": "python",
   "nbconvert_exporter": "python",
   "pygments_lexer": "ipython3",
   "version": "3.10.9"
  }
 },
 "nbformat": 4,
 "nbformat_minor": 5
}
